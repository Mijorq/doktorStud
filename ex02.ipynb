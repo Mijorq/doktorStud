{
 "cells": [
  {
   "cell_type": "markdown",
   "metadata": {},
   "source": [
    "# Zadanie 2\n",
    "\n",
    "1. Otwórz plik `area.csv`\n",
    "2. Do dalszej analizy wybierz dane z 3 kolumny\n",
    "3. Na podstawie kolumny 1 podziel dane na grupy\n",
    "4. Oblicz podstawowe statystyki:\n",
    "  - średnią generalną, odchylenie standardowe\n",
    "  - średnie w grupach\n",
    "  - odchylenia std. w grupach\n",
    "5. Do obliczeń użyj własnych funkcji, nazwij je np. `myAvevr`, `myStd`\n",
    "6. Utwórz wykresy:\n",
    "  - rozrzutu z naniesioną linią wartości średniej i liniami odchyleń standardowych\n",
    "  - wykres pudełkowy\n",
    "  "
   ]
  }
 ],
 "metadata": {
  "kernelspec": {
   "display_name": "Python [conda env:edc]",
   "language": "python",
   "name": "conda-env-edc-py"
  },
  "language_info": {
   "codemirror_mode": {
    "name": "ipython",
    "version": 3
   },
   "file_extension": ".py",
   "mimetype": "text/x-python",
   "name": "python",
   "nbconvert_exporter": "python",
   "pygments_lexer": "ipython3",
   "version": "3.7.5"
  }
 },
 "nbformat": 4,
 "nbformat_minor": 4
}
