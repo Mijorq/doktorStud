{
 "cells": [
  {
   "cell_type": "markdown",
   "metadata": {},
   "source": [
    "# Zadanie 1\n",
    "\n",
    "1. Napisać prostą funkcję obliczającą wartość średnią z listy liczb.\n",
    "2. Wczytać dane z pliku `covid2020-03-26.csv` wykorzystując funkcję `open()`\n",
    "3. Utworzyć liste list: każdy wiersz to osobna lista\n",
    "3. Utworzyc dwie listy, zawierające dane liczbowe, odpowiadające kolumnom:    \n",
    "   - 'Confirmed'\n",
    "   - 'Death'\n",
    "5. Obliczyć wartości średnie dla każdej z list ('Confirmed','Death')\n",
    "6. Dodać podsumowanie do danych odczytanych z pliku, czyli dodać wiersz:\n",
    "  >[podsumowanie, Polska, sumy, suma1, suma2]\n",
    "7. Zapisać zmodyfikowane dane do pliku `csv` z separatorem średnikiem `;` i nową nazwą np. `covidEx1.csv`\n",
    "\n",
    "# Definicja funkcji `myAver()`"
   ]
  },
  {
   "cell_type": "code",
   "execution_count": 1,
   "metadata": {},
   "outputs": [],
   "source": [
    "def myAver(ls):\n",
    "    ''' Liczy średnią z listy:\n",
    "        Args:\n",
    "            ls - lista'''\n",
    "    ls = ls[:]\n",
    "    return round(sum(ls)/len(ls),2)"
   ]
  },
  {
   "cell_type": "markdown",
   "metadata": {},
   "source": [
    "### `assert` - sprawdzenie działania funkcji\n",
    "\n",
    "Instrukcja `assert` sprawdza poprawność umieszczonego za nią wyrażenia. Jeśli wyrażenie nie jest prawdziwe generuje wyjątek `AssertionError`.\n",
    "\n",
    "`assert statement` - pomaga wykryć problemy na wczesnym etapie programu. Informacja o `assert` została tu zamieszczona ze względu na jej wykorzystanie w zadaniach w grze `https://checkio.org/`\n",
    "\n",
    "Błąd przerywa działanie programu i notatnika - błędną wartość przetestuj samodzielnie"
   ]
  },
  {
   "cell_type": "code",
   "execution_count": 2,
   "metadata": {},
   "outputs": [
    {
     "name": "stdout",
     "output_type": "stream",
     "text": [
      "[0, 1, 2, 3, 4, 5, 6, 7, 8, 9]\n"
     ]
    }
   ],
   "source": [
    "assert myAver([2,2,2,2]) == 2\n",
    "assert myAver([1,2,3]) == 2\n",
    "\n",
    "l1 = list(range(10))\n",
    "print(l1)\n",
    "assert myAver(l1) == 45/10"
   ]
  },
  {
   "cell_type": "code",
   "execution_count": 3,
   "metadata": {},
   "outputs": [],
   "source": [
    "assert myAver([2,2,2,2]) == 2, 'Twój komunikat o błędzie'"
   ]
  },
  {
   "cell_type": "markdown",
   "metadata": {},
   "source": [
    "# Wczytanie danych\n",
    "\n",
    "Funkcja `open()`: wczytuje dane z pliku o podanym adresie. Adresy plików można podawać jako:\n",
    "  - ścieżki bezwględne np.: `C:\\jakis_katalog\\plik.txt'\n",
    "  - ścieżki względne np.\" `./plik.txt`, jesli bieżący katalog to `C:\\jakis_katalog\\`\n",
    "  \n",
    "Odwołania względne:\n",
    "  - znak `.` oznacza bieżący katalog\n",
    "  - znak `..` oznacza katalog nadrzędny"
   ]
  },
  {
   "cell_type": "code",
   "execution_count": 4,
   "metadata": {
    "scrolled": true
   },
   "outputs": [
    {
     "data": {
      "text/plain": [
       "'/home/u1/22_dydaktyka/06Doktor'"
      ]
     },
     "execution_count": 4,
     "metadata": {},
     "output_type": "execute_result"
    }
   ],
   "source": [
    "%pwd # funkcja 'magiczna' wyświetla informacje o bieżącym katalogu"
   ]
  },
  {
   "cell_type": "code",
   "execution_count": 5,
   "metadata": {},
   "outputs": [
    {
     "name": "stdout",
     "output_type": "stream",
     "text": [
      "\u001b[0m\u001b[01;34mdata\u001b[0m/  ex01.ipynb  numpyStart.ipynb  test.ipynb\r\n"
     ]
    }
   ],
   "source": [
    "%ls  # wyświetla zawartość bieżącego katalogu"
   ]
  },
  {
   "cell_type": "code",
   "execution_count": 6,
   "metadata": {},
   "outputs": [
    {
     "name": "stdout",
     "output_type": "stream",
     "text": [
      "covid2020-03-26.csv  covidEx1.csv\r\n"
     ]
    }
   ],
   "source": [
    "%ls data  # zawartość katalogu 'data'\n",
    "# adres względny\n",
    "ad = './data/covid2020-03-26.csv'"
   ]
  },
  {
   "cell_type": "code",
   "execution_count": 7,
   "metadata": {},
   "outputs": [
    {
     "name": "stdout",
     "output_type": "stream",
     "text": [
      "\n",
      "typ: <class 'str'>\n",
      "\n"
     ]
    },
    {
     "data": {
      "text/plain": [
       "'Voivodeship,County/City,Last Update,Confirmed,Deaths\\ndolnośląskie,no-data,2020-03-26 09:59:02,150,5\\nkujawsko-pomorskie,no-data,2020-03-26 09:59:02,31,0\\nlubelskie,no-data,2020-03-26 09:59:02,72,2\\nlubuskie,no-data,2020-03-26 09:59:02,20,0\\nłódzkie,no-data,2020-03-26 09:59:02,144,0\\nmałopolskie,no-data,2020-03-26 09:59:02,59,0\\nmazowieckie,no-data,2020-03-26 09:59:02,251,1\\nopolskie,no-data,2020-03-26 09:59:02,23,0\\npodkarpackie,no-data,2020-03-26 09:59:02,44,1\\npodlaskie,no-data,2020-03-26 09:59:02,10,0\\npomorskie,no-data,2020-03-26 09:59:02,25,0\\nśląskie,no-data,2020-03-26 09:59:02,113,2\\nświętokrzyskie,no-data,2020-03-26 09:59:02,15,1\\nwarmińsko-mazurskie,no-data,2020-03-26 09:59:02,36,0\\nwielkopolskie,no-data,2020-03-26 09:59:02,60,2\\nzachodniopomorskie,no-data,2020-03-26 09:59:02,32,1\\n'"
      ]
     },
     "execution_count": 7,
     "metadata": {},
     "output_type": "execute_result"
    }
   ],
   "source": [
    "with open(ad) as f:\n",
    "    dane = f.read()\n",
    "    \n",
    "print(f'\\ntyp: {type(dane)}\\n') # jakiego typu są dane\n",
    "dane"
   ]
  },
  {
   "cell_type": "markdown",
   "metadata": {},
   "source": [
    "# Konwersja stringu na listę list"
   ]
  },
  {
   "cell_type": "code",
   "execution_count": 8,
   "metadata": {
    "scrolled": true
   },
   "outputs": [
    {
     "data": {
      "text/plain": [
       "['Voivodeship,County/City,Last Update,Confirmed,Deaths',\n",
       " 'dolnośląskie,no-data,2020-03-26 09:59:02,150,5',\n",
       " 'kujawsko-pomorskie,no-data,2020-03-26 09:59:02,31,0',\n",
       " 'lubelskie,no-data,2020-03-26 09:59:02,72,2',\n",
       " 'lubuskie,no-data,2020-03-26 09:59:02,20,0',\n",
       " 'łódzkie,no-data,2020-03-26 09:59:02,144,0',\n",
       " 'małopolskie,no-data,2020-03-26 09:59:02,59,0',\n",
       " 'mazowieckie,no-data,2020-03-26 09:59:02,251,1',\n",
       " 'opolskie,no-data,2020-03-26 09:59:02,23,0',\n",
       " 'podkarpackie,no-data,2020-03-26 09:59:02,44,1',\n",
       " 'podlaskie,no-data,2020-03-26 09:59:02,10,0',\n",
       " 'pomorskie,no-data,2020-03-26 09:59:02,25,0',\n",
       " 'śląskie,no-data,2020-03-26 09:59:02,113,2',\n",
       " 'świętokrzyskie,no-data,2020-03-26 09:59:02,15,1',\n",
       " 'warmińsko-mazurskie,no-data,2020-03-26 09:59:02,36,0',\n",
       " 'wielkopolskie,no-data,2020-03-26 09:59:02,60,2',\n",
       " 'zachodniopomorskie,no-data,2020-03-26 09:59:02,32,1']"
      ]
     },
     "execution_count": 8,
     "metadata": {},
     "output_type": "execute_result"
    }
   ],
   "source": [
    "la = dane.splitlines() # podział stringi na linie\n",
    "la"
   ]
  },
  {
   "cell_type": "code",
   "execution_count": 9,
   "metadata": {},
   "outputs": [
    {
     "data": {
      "text/plain": [
       "[['Voivodeship', 'County/City', 'Last Update', 'Confirmed', 'Deaths'],\n",
       " ['dolnośląskie', 'no-data', '2020-03-26 09:59:02', '150', '5'],\n",
       " ['kujawsko-pomorskie', 'no-data', '2020-03-26 09:59:02', '31', '0'],\n",
       " ['lubelskie', 'no-data', '2020-03-26 09:59:02', '72', '2'],\n",
       " ['lubuskie', 'no-data', '2020-03-26 09:59:02', '20', '0'],\n",
       " ['łódzkie', 'no-data', '2020-03-26 09:59:02', '144', '0'],\n",
       " ['małopolskie', 'no-data', '2020-03-26 09:59:02', '59', '0'],\n",
       " ['mazowieckie', 'no-data', '2020-03-26 09:59:02', '251', '1'],\n",
       " ['opolskie', 'no-data', '2020-03-26 09:59:02', '23', '0'],\n",
       " ['podkarpackie', 'no-data', '2020-03-26 09:59:02', '44', '1'],\n",
       " ['podlaskie', 'no-data', '2020-03-26 09:59:02', '10', '0'],\n",
       " ['pomorskie', 'no-data', '2020-03-26 09:59:02', '25', '0'],\n",
       " ['śląskie', 'no-data', '2020-03-26 09:59:02', '113', '2'],\n",
       " ['świętokrzyskie', 'no-data', '2020-03-26 09:59:02', '15', '1'],\n",
       " ['warmińsko-mazurskie', 'no-data', '2020-03-26 09:59:02', '36', '0'],\n",
       " ['wielkopolskie', 'no-data', '2020-03-26 09:59:02', '60', '2'],\n",
       " ['zachodniopomorskie', 'no-data', '2020-03-26 09:59:02', '32', '1']]"
      ]
     },
     "execution_count": 9,
     "metadata": {},
     "output_type": "execute_result"
    }
   ],
   "source": [
    "# convert list to list of lists\n",
    "la = [x.split(',') for x in la]\n",
    "la"
   ]
  },
  {
   "cell_type": "markdown",
   "metadata": {},
   "source": [
    "# Dwie listy danych\n",
    "\n",
    "  - `sm`: dane z kolumny 'Deaths'\n",
    "  - `cn`: dane z kolumny 'Confirmed'"
   ]
  },
  {
   "cell_type": "code",
   "execution_count": 10,
   "metadata": {},
   "outputs": [
    {
     "name": "stdout",
     "output_type": "stream",
     "text": [
      "sm: [5, 0, 2, 0, 0, 0, 1, 0, 1, 0, 0, 2, 1, 0, 2, 1]\n",
      "cn: [150, 31, 72, 20, 144, 59, 251, 23, 44, 10, 25, 113, 15, 36, 60, 32]\n"
     ]
    }
   ],
   "source": [
    "tmp = la[1:] # operacyjna kopia danych, bez wiersza nagłówkowego\n",
    "\n",
    "# wybranie ostatnixh wartości o 'Deaths'\n",
    "sm = [int(x[-1]) for x in tmp]\n",
    "# potwierdzenia / Confirmed\n",
    "cn = [int(x[-2]) for x in tmp]\n",
    "\n",
    "print(f'sm: {sm}\\ncn: {cn}')"
   ]
  },
  {
   "cell_type": "markdown",
   "metadata": {},
   "source": [
    "# Wartości średnie / podsumowanie"
   ]
  },
  {
   "cell_type": "code",
   "execution_count": 11,
   "metadata": {
    "scrolled": true
   },
   "outputs": [
    {
     "name": "stdout",
     "output_type": "stream",
     "text": [
      "średnia śmierci: 0.94\n",
      "\n",
      "średnia cn: 67.81\n"
     ]
    }
   ],
   "source": [
    "sm_mean = myAver(sm)\n",
    "cn_mean = myAver(cn)\n",
    "print(f'średnia śmierci: {sm_mean}\\n\\nśrednia cn: {cn_mean}')"
   ]
  },
  {
   "cell_type": "code",
   "execution_count": 12,
   "metadata": {},
   "outputs": [
    {
     "name": "stdout",
     "output_type": "stream",
     "text": [
      "Podsumowanie:,Polska,sumy,67.81,0.94 \n",
      "\n",
      "['Podsumowanie:', 'Polska', 'sumy', '67.81', '0.94'] \n",
      "\n",
      "[['Voivodeship', 'County/City', 'Last Update', 'Confirmed', 'Deaths'], ['dolnośląskie', 'no-data', '2020-03-26 09:59:02', '150', '5'], ['kujawsko-pomorskie', 'no-data', '2020-03-26 09:59:02', '31', '0'], ['lubelskie', 'no-data', '2020-03-26 09:59:02', '72', '2'], ['lubuskie', 'no-data', '2020-03-26 09:59:02', '20', '0'], ['łódzkie', 'no-data', '2020-03-26 09:59:02', '144', '0'], ['małopolskie', 'no-data', '2020-03-26 09:59:02', '59', '0'], ['mazowieckie', 'no-data', '2020-03-26 09:59:02', '251', '1'], ['opolskie', 'no-data', '2020-03-26 09:59:02', '23', '0'], ['podkarpackie', 'no-data', '2020-03-26 09:59:02', '44', '1'], ['podlaskie', 'no-data', '2020-03-26 09:59:02', '10', '0'], ['pomorskie', 'no-data', '2020-03-26 09:59:02', '25', '0'], ['śląskie', 'no-data', '2020-03-26 09:59:02', '113', '2'], ['świętokrzyskie', 'no-data', '2020-03-26 09:59:02', '15', '1'], ['warmińsko-mazurskie', 'no-data', '2020-03-26 09:59:02', '36', '0'], ['wielkopolskie', 'no-data', '2020-03-26 09:59:02', '60', '2'], ['zachodniopomorskie', 'no-data', '2020-03-26 09:59:02', '32', '1'], ['Podsumowanie:', 'Polska', 'sumy', '67.81', '0.94']] \n",
      "\n"
     ]
    }
   ],
   "source": [
    "# tworzenie wiersza podsumowania\n",
    "w = f'Podsumowanie:,Polska,sumy,{cn_mean},{sm_mean}'\n",
    "print(w,'\\n')\n",
    "\n",
    "# podział wiersza na kolumny\n",
    "w= w.split(',')\n",
    "print(w,'\\n')\n",
    "\n",
    "# dodanie wiersza do \n",
    "la.append(w)\n",
    "print(la,'\\n')"
   ]
  },
  {
   "cell_type": "markdown",
   "metadata": {},
   "source": [
    "# Zapis do pliku\n",
    "\n",
    "1. Konwersja listy na tekst złożony z linii rozdzielonych znakiem `\\n` \n",
    "2. Ustalenie adresu nowego pliku - moduł `pathlib`\n",
    "\n",
    "### Konwersja"
   ]
  },
  {
   "cell_type": "code",
   "execution_count": 13,
   "metadata": {},
   "outputs": [
    {
     "data": {
      "text/plain": [
       "['Voivodeship;County/City;Last Update;Confirmed;Deaths',\n",
       " 'dolnośląskie;no-data;2020-03-26 09:59:02;150;5',\n",
       " 'kujawsko-pomorskie;no-data;2020-03-26 09:59:02;31;0',\n",
       " 'lubelskie;no-data;2020-03-26 09:59:02;72;2',\n",
       " 'lubuskie;no-data;2020-03-26 09:59:02;20;0',\n",
       " 'łódzkie;no-data;2020-03-26 09:59:02;144;0',\n",
       " 'małopolskie;no-data;2020-03-26 09:59:02;59;0',\n",
       " 'mazowieckie;no-data;2020-03-26 09:59:02;251;1',\n",
       " 'opolskie;no-data;2020-03-26 09:59:02;23;0',\n",
       " 'podkarpackie;no-data;2020-03-26 09:59:02;44;1',\n",
       " 'podlaskie;no-data;2020-03-26 09:59:02;10;0',\n",
       " 'pomorskie;no-data;2020-03-26 09:59:02;25;0',\n",
       " 'śląskie;no-data;2020-03-26 09:59:02;113;2',\n",
       " 'świętokrzyskie;no-data;2020-03-26 09:59:02;15;1',\n",
       " 'warmińsko-mazurskie;no-data;2020-03-26 09:59:02;36;0',\n",
       " 'wielkopolskie;no-data;2020-03-26 09:59:02;60;2',\n",
       " 'zachodniopomorskie;no-data;2020-03-26 09:59:02;32;1',\n",
       " 'Podsumowanie:;Polska;sumy;67.81;0.94']"
      ]
     },
     "execution_count": 13,
     "metadata": {},
     "output_type": "execute_result"
    }
   ],
   "source": [
    "# łączenie elementów wierszy w stringi z separatorem ';'\n",
    "la = [';'.join(x) for x in la]\n",
    "la"
   ]
  },
  {
   "cell_type": "code",
   "execution_count": 14,
   "metadata": {},
   "outputs": [
    {
     "data": {
      "text/plain": [
       "'Voivodeship;County/City;Last Update;Confirmed;Deaths\\ndolnośląskie;no-data;2020-03-26 09:59:02;150;5\\nkujawsko-pomorskie;no-data;2020-03-26 09:59:02;31;0\\nlubelskie;no-data;2020-03-26 09:59:02;72;2\\nlubuskie;no-data;2020-03-26 09:59:02;20;0\\nłódzkie;no-data;2020-03-26 09:59:02;144;0\\nmałopolskie;no-data;2020-03-26 09:59:02;59;0\\nmazowieckie;no-data;2020-03-26 09:59:02;251;1\\nopolskie;no-data;2020-03-26 09:59:02;23;0\\npodkarpackie;no-data;2020-03-26 09:59:02;44;1\\npodlaskie;no-data;2020-03-26 09:59:02;10;0\\npomorskie;no-data;2020-03-26 09:59:02;25;0\\nśląskie;no-data;2020-03-26 09:59:02;113;2\\nświętokrzyskie;no-data;2020-03-26 09:59:02;15;1\\nwarmińsko-mazurskie;no-data;2020-03-26 09:59:02;36;0\\nwielkopolskie;no-data;2020-03-26 09:59:02;60;2\\nzachodniopomorskie;no-data;2020-03-26 09:59:02;32;1\\nPodsumowanie:;Polska;sumy;67.81;0.94'"
      ]
     },
     "execution_count": 14,
     "metadata": {},
     "output_type": "execute_result"
    }
   ],
   "source": [
    "# łączenie wierszy w string z '\\n'\n",
    "la = '\\n'.join(la)\n",
    "la"
   ]
  },
  {
   "cell_type": "markdown",
   "metadata": {},
   "source": [
    "### pathlib"
   ]
  },
  {
   "cell_type": "code",
   "execution_count": 15,
   "metadata": {},
   "outputs": [],
   "source": [
    "from pathlib import Path"
   ]
  },
  {
   "cell_type": "code",
   "execution_count": 16,
   "metadata": {},
   "outputs": [
    {
     "name": "stdout",
     "output_type": "stream",
     "text": [
      "ad: data/covidEx1.csv\n",
      "typ: <class 'pathlib.PosixPath'>\n"
     ]
    }
   ],
   "source": [
    "# nowa nazwa pliku w bieżącym katalogu\n",
    "ad = Path('data/covidEx1.csv')\n",
    "print(f'ad: {ad}\\ntyp: {type(ad)}')"
   ]
  },
  {
   "cell_type": "code",
   "execution_count": 17,
   "metadata": {},
   "outputs": [
    {
     "name": "stdout",
     "output_type": "stream",
     "text": [
      "adres bezwzględny jako obiekt:\n",
      "/home/u1/22_dydaktyka/06Doktor/data/covidEx1.csv\n",
      "\n",
      "typ: <class 'pathlib.PosixPath'>\n"
     ]
    }
   ],
   "source": [
    "# adres bezwzględny\n",
    "ad = ad.resolve()\n",
    "print(f'adres bezwzględny jako obiekt:\\n{ad}\\n\\ntyp: {type(ad)}')"
   ]
  },
  {
   "cell_type": "code",
   "execution_count": 18,
   "metadata": {},
   "outputs": [
    {
     "name": "stdout",
     "output_type": "stream",
     "text": [
      "adres bezwzhędny jako string:\n",
      "/home/u1/22_dydaktyka/06Doktor/data/covidEx1.csv\n",
      "\n",
      "typ: <class 'str'>\n"
     ]
    }
   ],
   "source": [
    "# konwersja na string\n",
    "ad_str = ad.as_posix()\n",
    "print(f'adres bezwzhędny jako string:\\n{ad_str}\\n\\ntyp: {type(ad_str)}')"
   ]
  },
  {
   "cell_type": "code",
   "execution_count": 19,
   "metadata": {},
   "outputs": [
    {
     "name": "stdout",
     "output_type": "stream",
     "text": [
      "/home/u1/22_dydaktyka/06Doktor/data/covidEx1.csv\n",
      "/home/u1/22_dydaktyka/06Doktor/data/nowyPlik.txt\n"
     ]
    }
   ],
   "source": [
    "# tworzy adres z nową nazwą pliku\n",
    "ad2 = ad.with_name('nowyPlik.txt')\n",
    "print(ad,ad2,sep='\\n')"
   ]
  },
  {
   "cell_type": "code",
   "execution_count": 20,
   "metadata": {
    "scrolled": true
   },
   "outputs": [
    {
     "name": "stdout",
     "output_type": "stream",
     "text": [
      "suffix:\t\t.csv\n",
      "with_suffix:\t/home/u1/22_dydaktyka/06Doktor/data/covidEx1.mpg\n",
      "\n",
      "parent:\t\t/home/u1/22_dydaktyka/06Doktor/data\n"
     ]
    }
   ],
   "source": [
    "# zmiana rozszerzenia '.csv' na '.mpg'\n",
    "print(f'suffix:\\t\\t{ad.suffix}\\nwith_suffix:\\t{ad.with_suffix(\".mpg\")}')\n",
    "\n",
    "# pobież adres katalogu, w którym jest plik\n",
    "print(f'\\nparent:\\t\\t{ad.parent}')"
   ]
  },
  {
   "cell_type": "code",
   "execution_count": 21,
   "metadata": {
    "scrolled": true
   },
   "outputs": [
    {
     "name": "stdout",
     "output_type": "stream",
     "text": [
      "/home/u1/22_dydaktyka/06Doktor/data\n",
      "/home/u1/22_dydaktyka/06Doktor\n",
      "/home/u1/22_dydaktyka\n"
     ]
    }
   ],
   "source": [
    "# iteruj po adresach kolejnych katalogach nadrzędnych\n",
    "for i in range(3):\n",
    "    print(ad.parents[i])"
   ]
  },
  {
   "cell_type": "markdown",
   "metadata": {},
   "source": [
    "## Zapis do pliku"
   ]
  },
  {
   "cell_type": "code",
   "execution_count": 22,
   "metadata": {},
   "outputs": [
    {
     "data": {
      "text/plain": [
       "PosixPath('/home/u1/22_dydaktyka/06Doktor/data/covidEx1.csv')"
      ]
     },
     "execution_count": 22,
     "metadata": {},
     "output_type": "execute_result"
    }
   ],
   "source": [
    "# spr. adresu\n",
    "ad"
   ]
  },
  {
   "cell_type": "code",
   "execution_count": 23,
   "metadata": {},
   "outputs": [],
   "source": [
    "with open(ad,'w') as f:\n",
    "    f.write(la)"
   ]
  },
  {
   "cell_type": "code",
   "execution_count": 27,
   "metadata": {
    "scrolled": true
   },
   "outputs": [
    {
     "name": "stdout",
     "output_type": "stream",
     "text": [
      "covid2020-03-26.csv  covidEx1.csv\r\n"
     ]
    }
   ],
   "source": [
    "# sprawdza zawartość katalogu data - czy plik został zapisany\n",
    "%ls data"
   ]
  }
 ],
 "metadata": {
  "kernelspec": {
   "display_name": "Python [conda env:edc]",
   "language": "python",
   "name": "conda-env-edc-py"
  },
  "language_info": {
   "codemirror_mode": {
    "name": "ipython",
    "version": 3
   },
   "file_extension": ".py",
   "mimetype": "text/x-python",
   "name": "python",
   "nbconvert_exporter": "python",
   "pygments_lexer": "ipython3",
   "version": "3.7.5"
  }
 },
 "nbformat": 4,
 "nbformat_minor": 4
}
